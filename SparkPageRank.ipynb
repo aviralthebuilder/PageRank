{
 "cells": [
  {
   "cell_type": "code",
   "execution_count": 1,
   "metadata": {},
   "outputs": [],
   "source": [
    "sc = SparkContext.getOrCreate()\n",
    "#time to initialize sc\n"
   ]
  },
  {
   "cell_type": "code",
   "execution_count": 2,
   "metadata": {},
   "outputs": [],
   "source": [
    "def define(arr, rank):\n",
    "    temp = []\n",
    "    arrTemp = arr.split(\" \")\n",
    "    for num in arrTemp:\n",
    "        temp.append((num, rank))\n",
    "    return temp"
   ]
  },
  {
   "cell_type": "code",
   "execution_count": 6,
   "metadata": {},
   "outputs": [],
   "source": [
    "import numpy as np"
   ]
  },
  {
   "cell_type": "code",
   "execution_count": 7,
   "metadata": {},
   "outputs": [],
   "source": [
    "def PageRank(rdd, iterations):\n",
    "    links = rdd.reduceByKey(lambda x,y: str(x) + \" \"+ str(y))\n",
    "    ranks = links.map(lambda x: (x, 1)) \\\n",
    "                 .map(lambda x: (x[0][0], x[0][1],1, 1 / len(x[0][1].split(\" \")))) \n",
    "    for i in np.arange(0, iterations):\n",
    "        print(i)\n",
    "        trial = ranks.flatMap(lambda x: define(x[1],x[3]))\n",
    "        rankedSum = trial.reduceByKey(lambda x,y: x + y) \\\n",
    "                         .map(lambda x: (x[0], x[1] * 0.85)) \\\n",
    "                         .map(lambda x: (x[0], x[1] + 0.15))\n",
    "                              \n",
    "        combined = ranks.join(rankedSum) \\\n",
    "                        .sortBy(lambda a: a[0], ascending = True) \\\n",
    "                        .map(lambda x: (x[0], x[1][0], 1 , x[1][1]))\n",
    "\n",
    "        ranks = combined.map(lambda x: (x[0], x[1], x[2] , x[3] / len(x[1].split(\" \"))))\n",
    "    return ranks  "
   ]
  },
  {
   "cell_type": "code",
   "execution_count": 8,
   "metadata": {},
   "outputs": [],
   "source": [
    "initial = sc.textFile(\"web-Google.txt\")\n",
    "initial = initial.map(lambda x: (x.split(\"\\t\")[0], x.split(\"\\t\")[1]))"
   ]
  },
  {
   "cell_type": "code",
   "execution_count": null,
   "metadata": {},
   "outputs": [
    {
     "name": "stdout",
     "output_type": "stream",
     "text": [
      "0\n",
      "1\n",
      "2\n",
      "3\n",
      "4\n",
      "5\n",
      "6\n",
      "7\n",
      "8\n",
      "9\n",
      "10\n",
      "11\n"
     ]
    }
   ],
   "source": [
    "tri = PageRank(initial, 100)"
   ]
  },
  {
   "cell_type": "code",
   "execution_count": null,
   "metadata": {},
   "outputs": [],
   "source": []
  }
 ],
 "metadata": {
  "kernelspec": {
   "display_name": "Python 3",
   "language": "python",
   "name": "python3"
  },
  "language_info": {
   "codemirror_mode": {
    "name": "ipython",
    "version": 3
   },
   "file_extension": ".py",
   "mimetype": "text/x-python",
   "name": "python",
   "nbconvert_exporter": "python",
   "pygments_lexer": "ipython3",
   "version": "3.7.3"
  }
 },
 "nbformat": 4,
 "nbformat_minor": 2
}
